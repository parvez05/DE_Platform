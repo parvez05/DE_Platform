{
 "cells": [
  {
   "cell_type": "markdown",
   "id": "720a9236-a692-477a-928d-b720ba0dd264",
   "metadata": {},
   "source": [
    "### Notebook to Transform and Load data in Database \n",
    "* Source File: sales_data.csv\n",
    "* User data End Point: https://jsonplaceholder.typicode.com/users\n",
    "* Whether Data End Point:  https://api.openweathermap.org/data/2.5/weather\n",
    "* Final Table Name: aiq.tran_sales"
   ]
  },
  {
   "cell_type": "markdown",
   "id": "a062b927-6571-48ce-bd27-2978993bfca4",
   "metadata": {},
   "source": [
    "#### Import Libraries"
   ]
  },
  {
   "cell_type": "code",
   "execution_count": 5,
   "id": "a9f565f2-9820-471e-a3bd-bf749fd72dbd",
   "metadata": {},
   "outputs": [],
   "source": [
    "import pandas as pd\n",
    "import requests\n",
    "import json"
   ]
  },
  {
   "cell_type": "markdown",
   "id": "18339c31-92a8-42be-8ea0-c4abab506228",
   "metadata": {},
   "source": [
    "#### Define parameters and varibales"
   ]
  },
  {
   "cell_type": "code",
   "execution_count": 6,
   "id": "6e3924b9-cf7e-4814-a2ed-f29159a98797",
   "metadata": {},
   "outputs": [],
   "source": [
    "# User end-point\n",
    "user_url = 'https://jsonplaceholder.typicode.com/users'"
   ]
  },
  {
   "cell_type": "markdown",
   "id": "210961a9-f03b-4815-87e2-eb3c5184ee0d",
   "metadata": {},
   "source": [
    "#### Read source file into Dataframe"
   ]
  },
  {
   "cell_type": "code",
   "execution_count": 7,
   "id": "f7b4ea78-01e8-4595-8015-5827d0d7a952",
   "metadata": {},
   "outputs": [
    {
     "data": {
      "text/html": [
       "<div>\n",
       "<style scoped>\n",
       "    .dataframe tbody tr th:only-of-type {\n",
       "        vertical-align: middle;\n",
       "    }\n",
       "\n",
       "    .dataframe tbody tr th {\n",
       "        vertical-align: top;\n",
       "    }\n",
       "\n",
       "    .dataframe thead th {\n",
       "        text-align: right;\n",
       "    }\n",
       "</style>\n",
       "<table border=\"1\" class=\"dataframe\">\n",
       "  <thead>\n",
       "    <tr style=\"text-align: right;\">\n",
       "      <th></th>\n",
       "      <th>order_id</th>\n",
       "      <th>customer_id</th>\n",
       "      <th>product_id</th>\n",
       "      <th>quantity</th>\n",
       "      <th>price</th>\n",
       "      <th>order_date</th>\n",
       "    </tr>\n",
       "  </thead>\n",
       "  <tbody>\n",
       "    <tr>\n",
       "      <th>0</th>\n",
       "      <td>2334</td>\n",
       "      <td>5</td>\n",
       "      <td>40</td>\n",
       "      <td>3</td>\n",
       "      <td>35.60</td>\n",
       "      <td>2022-06-21</td>\n",
       "    </tr>\n",
       "    <tr>\n",
       "      <th>1</th>\n",
       "      <td>6228</td>\n",
       "      <td>8</td>\n",
       "      <td>13</td>\n",
       "      <td>7</td>\n",
       "      <td>36.52</td>\n",
       "      <td>2023-03-08</td>\n",
       "    </tr>\n",
       "    <tr>\n",
       "      <th>2</th>\n",
       "      <td>7784</td>\n",
       "      <td>9</td>\n",
       "      <td>44</td>\n",
       "      <td>4</td>\n",
       "      <td>46.56</td>\n",
       "      <td>2023-04-22</td>\n",
       "    </tr>\n",
       "  </tbody>\n",
       "</table>\n",
       "</div>"
      ],
      "text/plain": [
       "   order_id  customer_id  product_id  quantity  price  order_date\n",
       "0      2334            5          40         3  35.60  2022-06-21\n",
       "1      6228            8          13         7  36.52  2023-03-08\n",
       "2      7784            9          44         4  46.56  2023-04-22"
      ]
     },
     "execution_count": 7,
     "metadata": {},
     "output_type": "execute_result"
    }
   ],
   "source": [
    "sales_df = pd.read_csv(\"/opt/spark/data/sales_data.csv\")\n",
    "sales_df[0:3]"
   ]
  },
  {
   "cell_type": "markdown",
   "id": "c23437f7-cc16-4d54-a269-ac9bb43bee73",
   "metadata": {},
   "source": [
    "#### Data Quality Check and Data Standardization"
   ]
  },
  {
   "cell_type": "code",
   "execution_count": 51,
   "id": "111a95c7-2f9e-4c31-a947-acc3c11be31e",
   "metadata": {},
   "outputs": [
    {
     "data": {
      "text/plain": [
       "order_id         int64\n",
       "customer_id      int64\n",
       "product_id       int64\n",
       "quantity         int64\n",
       "price          float64\n",
       "order_date      object\n",
       "dtype: object"
      ]
     },
     "execution_count": 51,
     "metadata": {},
     "output_type": "execute_result"
    }
   ],
   "source": [
    "# Data type of each attribute\n",
    "sales_df.dtypes"
   ]
  },
  {
   "cell_type": "code",
   "execution_count": 53,
   "id": "bad153e4-ce43-4d71-873c-02a8acf94fc6",
   "metadata": {},
   "outputs": [
    {
     "data": {
      "text/plain": [
       "order_id                int64\n",
       "customer_id             int64\n",
       "product_id              int64\n",
       "quantity                int64\n",
       "price                 float64\n",
       "order_date     datetime64[ns]\n",
       "dtype: object"
      ]
     },
     "execution_count": 53,
     "metadata": {},
     "output_type": "execute_result"
    }
   ],
   "source": [
    "# Convert to appropriate data type\n",
    "sales_df['order_date'] = pd.to_datetime(sales_df['order_date'])\n",
    "sales_df.dtypes"
   ]
  },
  {
   "cell_type": "code",
   "execution_count": 54,
   "id": "49218d27-46e7-4f6e-b644-34bc6df204c7",
   "metadata": {},
   "outputs": [
    {
     "data": {
      "text/plain": [
       "False"
      ]
     },
     "execution_count": 54,
     "metadata": {},
     "output_type": "execute_result"
    }
   ],
   "source": [
    "# Checking the presence of missing values\n",
    "sales_df.isnull().values.any()"
   ]
  },
  {
   "cell_type": "markdown",
   "id": "41147a4e-7d56-4825-a7c5-c0e0df04d3cd",
   "metadata": {},
   "source": [
    "###### No NULL values in the Dataset"
   ]
  },
  {
   "cell_type": "markdown",
   "id": "ba67608b-4be7-4074-bc33-1d28e7407929",
   "metadata": {},
   "source": [
    "### *** Extract User Data from JSONPlaceholder API endpoint ***"
   ]
  },
  {
   "cell_type": "code",
   "execution_count": 55,
   "id": "9829ae12-2981-45ef-99e6-300d19b46455",
   "metadata": {},
   "outputs": [
    {
     "data": {
      "text/html": [
       "<div>\n",
       "<style scoped>\n",
       "    .dataframe tbody tr th:only-of-type {\n",
       "        vertical-align: middle;\n",
       "    }\n",
       "\n",
       "    .dataframe tbody tr th {\n",
       "        vertical-align: top;\n",
       "    }\n",
       "\n",
       "    .dataframe thead th {\n",
       "        text-align: right;\n",
       "    }\n",
       "</style>\n",
       "<table border=\"1\" class=\"dataframe\">\n",
       "  <thead>\n",
       "    <tr style=\"text-align: right;\">\n",
       "      <th></th>\n",
       "      <th>id</th>\n",
       "      <th>name</th>\n",
       "      <th>username</th>\n",
       "      <th>email</th>\n",
       "      <th>phone</th>\n",
       "      <th>website</th>\n",
       "      <th>address.street</th>\n",
       "      <th>address.suite</th>\n",
       "      <th>address.city</th>\n",
       "      <th>address.zipcode</th>\n",
       "      <th>address.geo.lat</th>\n",
       "      <th>address.geo.lng</th>\n",
       "      <th>company.name</th>\n",
       "      <th>company.catchPhrase</th>\n",
       "      <th>company.bs</th>\n",
       "    </tr>\n",
       "  </thead>\n",
       "  <tbody>\n",
       "    <tr>\n",
       "      <th>0</th>\n",
       "      <td>1</td>\n",
       "      <td>Leanne Graham</td>\n",
       "      <td>Bret</td>\n",
       "      <td>Sincere@april.biz</td>\n",
       "      <td>1-770-736-8031 x56442</td>\n",
       "      <td>hildegard.org</td>\n",
       "      <td>Kulas Light</td>\n",
       "      <td>Apt. 556</td>\n",
       "      <td>Gwenborough</td>\n",
       "      <td>92998-3874</td>\n",
       "      <td>-37.3159</td>\n",
       "      <td>81.1496</td>\n",
       "      <td>Romaguera-Crona</td>\n",
       "      <td>Multi-layered client-server neural-net</td>\n",
       "      <td>harness real-time e-markets</td>\n",
       "    </tr>\n",
       "    <tr>\n",
       "      <th>1</th>\n",
       "      <td>2</td>\n",
       "      <td>Ervin Howell</td>\n",
       "      <td>Antonette</td>\n",
       "      <td>Shanna@melissa.tv</td>\n",
       "      <td>010-692-6593 x09125</td>\n",
       "      <td>anastasia.net</td>\n",
       "      <td>Victor Plains</td>\n",
       "      <td>Suite 879</td>\n",
       "      <td>Wisokyburgh</td>\n",
       "      <td>90566-7771</td>\n",
       "      <td>-43.9509</td>\n",
       "      <td>-34.4618</td>\n",
       "      <td>Deckow-Crist</td>\n",
       "      <td>Proactive didactic contingency</td>\n",
       "      <td>synergize scalable supply-chains</td>\n",
       "    </tr>\n",
       "  </tbody>\n",
       "</table>\n",
       "</div>"
      ],
      "text/plain": [
       "   id           name   username              email                  phone  \\\n",
       "0   1  Leanne Graham       Bret  Sincere@april.biz  1-770-736-8031 x56442   \n",
       "1   2   Ervin Howell  Antonette  Shanna@melissa.tv    010-692-6593 x09125   \n",
       "\n",
       "         website address.street address.suite address.city address.zipcode  \\\n",
       "0  hildegard.org    Kulas Light      Apt. 556  Gwenborough      92998-3874   \n",
       "1  anastasia.net  Victor Plains     Suite 879  Wisokyburgh      90566-7771   \n",
       "\n",
       "  address.geo.lat address.geo.lng     company.name  \\\n",
       "0        -37.3159         81.1496  Romaguera-Crona   \n",
       "1        -43.9509        -34.4618     Deckow-Crist   \n",
       "\n",
       "                      company.catchPhrase                        company.bs  \n",
       "0  Multi-layered client-server neural-net       harness real-time e-markets  \n",
       "1          Proactive didactic contingency  synergize scalable supply-chains  "
      ]
     },
     "execution_count": 55,
     "metadata": {},
     "output_type": "execute_result"
    }
   ],
   "source": [
    "# Get users data from JSONPlaceholder API\n",
    "response = requests.get(user_url)\n",
    "data = json.loads(response.text)\n",
    "\n",
    "# Convert json data to pandas dataframe\n",
    "users_df = pd.json_normalize(data)\n",
    "users_df[0:2]"
   ]
  },
  {
   "cell_type": "markdown",
   "id": "f7169076-d9ef-4391-addf-cb596d9575eb",
   "metadata": {},
   "source": [
    "#### Get only required columns and give appropriate names"
   ]
  },
  {
   "cell_type": "code",
   "execution_count": 56,
   "id": "4ec826e2-b9b0-4abb-8589-faeb92dfcc79",
   "metadata": {},
   "outputs": [
    {
     "data": {
      "text/html": [
       "<div>\n",
       "<style scoped>\n",
       "    .dataframe tbody tr th:only-of-type {\n",
       "        vertical-align: middle;\n",
       "    }\n",
       "\n",
       "    .dataframe tbody tr th {\n",
       "        vertical-align: top;\n",
       "    }\n",
       "\n",
       "    .dataframe thead th {\n",
       "        text-align: right;\n",
       "    }\n",
       "</style>\n",
       "<table border=\"1\" class=\"dataframe\">\n",
       "  <thead>\n",
       "    <tr style=\"text-align: right;\">\n",
       "      <th></th>\n",
       "      <th>id</th>\n",
       "      <th>name</th>\n",
       "      <th>username</th>\n",
       "      <th>email</th>\n",
       "      <th>city</th>\n",
       "      <th>lat</th>\n",
       "      <th>lng</th>\n",
       "    </tr>\n",
       "  </thead>\n",
       "  <tbody>\n",
       "    <tr>\n",
       "      <th>0</th>\n",
       "      <td>1</td>\n",
       "      <td>Leanne Graham</td>\n",
       "      <td>Bret</td>\n",
       "      <td>Sincere@april.biz</td>\n",
       "      <td>Gwenborough</td>\n",
       "      <td>-37.3159</td>\n",
       "      <td>81.1496</td>\n",
       "    </tr>\n",
       "    <tr>\n",
       "      <th>1</th>\n",
       "      <td>2</td>\n",
       "      <td>Ervin Howell</td>\n",
       "      <td>Antonette</td>\n",
       "      <td>Shanna@melissa.tv</td>\n",
       "      <td>Wisokyburgh</td>\n",
       "      <td>-43.9509</td>\n",
       "      <td>-34.4618</td>\n",
       "    </tr>\n",
       "    <tr>\n",
       "      <th>2</th>\n",
       "      <td>3</td>\n",
       "      <td>Clementine Bauch</td>\n",
       "      <td>Samantha</td>\n",
       "      <td>Nathan@yesenia.net</td>\n",
       "      <td>McKenziehaven</td>\n",
       "      <td>-68.6102</td>\n",
       "      <td>-47.0653</td>\n",
       "    </tr>\n",
       "  </tbody>\n",
       "</table>\n",
       "</div>"
      ],
      "text/plain": [
       "   id              name   username               email           city  \\\n",
       "0   1     Leanne Graham       Bret   Sincere@april.biz    Gwenborough   \n",
       "1   2      Ervin Howell  Antonette   Shanna@melissa.tv    Wisokyburgh   \n",
       "2   3  Clementine Bauch   Samantha  Nathan@yesenia.net  McKenziehaven   \n",
       "\n",
       "        lat       lng  \n",
       "0  -37.3159   81.1496  \n",
       "1  -43.9509  -34.4618  \n",
       "2  -68.6102  -47.0653  "
      ]
     },
     "execution_count": 56,
     "metadata": {},
     "output_type": "execute_result"
    }
   ],
   "source": [
    "users_df1 = users_df[[\"id\",\"name\",\"username\",\"email\",\"address.city\",\"address.geo.lat\",\"address.geo.lng\"]]\n",
    "final_users_df = users_df1.rename(columns={\"address.city\":\"city\",\"address.geo.lat\":\"lat\",\"address.geo.lng\":\"lng\"})\n",
    "final_users_df[0:3]"
   ]
  },
  {
   "cell_type": "markdown",
   "id": "b2e22886-4e00-4af8-8899-10a51fc0470f",
   "metadata": {},
   "source": [
    "#### Data Quality Check and Data Standardization"
   ]
  },
  {
   "cell_type": "code",
   "execution_count": 57,
   "id": "ccac5017-ecad-44cd-92f1-d86518664779",
   "metadata": {},
   "outputs": [
    {
     "data": {
      "text/plain": [
       "id           int64\n",
       "name        object\n",
       "username    object\n",
       "email       object\n",
       "city        object\n",
       "lat         object\n",
       "lng         object\n",
       "dtype: object"
      ]
     },
     "execution_count": 57,
     "metadata": {},
     "output_type": "execute_result"
    }
   ],
   "source": [
    "# Data type of each attribute\n",
    "final_users_df.dtypes"
   ]
  },
  {
   "cell_type": "code",
   "execution_count": 58,
   "id": "a4340631-93ed-4808-ba9c-983c7e4d003c",
   "metadata": {},
   "outputs": [
    {
     "data": {
      "text/plain": [
       "id                   Int64\n",
       "name        string[python]\n",
       "username    string[python]\n",
       "email       string[python]\n",
       "city        string[python]\n",
       "lat         string[python]\n",
       "lng         string[python]\n",
       "dtype: object"
      ]
     },
     "execution_count": 58,
     "metadata": {},
     "output_type": "execute_result"
    }
   ],
   "source": [
    "# Convert object datatypes to appropriate datatypes\n",
    "final_users_df = final_users_df.convert_dtypes()\n",
    "final_users_df.dtypes"
   ]
  },
  {
   "cell_type": "code",
   "execution_count": 59,
   "id": "7b38007e-a77a-4681-a97c-f69667c71730",
   "metadata": {},
   "outputs": [
    {
     "data": {
      "text/plain": [
       "False"
      ]
     },
     "execution_count": 59,
     "metadata": {},
     "output_type": "execute_result"
    }
   ],
   "source": [
    "# Checking the presence of missing values\n",
    "final_users_df.isnull().values.any()"
   ]
  },
  {
   "cell_type": "markdown",
   "id": "0f5668e2-ac35-42e1-9d8d-0cd79d81423a",
   "metadata": {},
   "source": [
    "###### No NULL values in the Dataset"
   ]
  },
  {
   "cell_type": "markdown",
   "id": "e3de0a35-24d2-4410-9544-22432e8b3364",
   "metadata": {},
   "source": [
    "#### Merge sales & user dataframes"
   ]
  },
  {
   "cell_type": "code",
   "execution_count": 60,
   "id": "1b334ca7-7d5b-4bdc-b884-13f5c422e52e",
   "metadata": {},
   "outputs": [
    {
     "name": "stdout",
     "output_type": "stream",
     "text": [
      "(1000, 6)\n",
      "(10, 7)\n"
     ]
    }
   ],
   "source": [
    "print(sales_df.shape)\n",
    "print(final_users_df.shape)"
   ]
  },
  {
   "cell_type": "code",
   "execution_count": 61,
   "id": "7a3bcb3e-fea0-44be-a32d-418fb63efdaf",
   "metadata": {},
   "outputs": [
    {
     "data": {
      "text/html": [
       "<div>\n",
       "<style scoped>\n",
       "    .dataframe tbody tr th:only-of-type {\n",
       "        vertical-align: middle;\n",
       "    }\n",
       "\n",
       "    .dataframe tbody tr th {\n",
       "        vertical-align: top;\n",
       "    }\n",
       "\n",
       "    .dataframe thead th {\n",
       "        text-align: right;\n",
       "    }\n",
       "</style>\n",
       "<table border=\"1\" class=\"dataframe\">\n",
       "  <thead>\n",
       "    <tr style=\"text-align: right;\">\n",
       "      <th></th>\n",
       "      <th>order_id</th>\n",
       "      <th>customer_id</th>\n",
       "      <th>product_id</th>\n",
       "      <th>quantity</th>\n",
       "      <th>price</th>\n",
       "      <th>order_date</th>\n",
       "      <th>name</th>\n",
       "      <th>username</th>\n",
       "      <th>email</th>\n",
       "      <th>city</th>\n",
       "      <th>lat</th>\n",
       "      <th>lng</th>\n",
       "    </tr>\n",
       "  </thead>\n",
       "  <tbody>\n",
       "    <tr>\n",
       "      <th>0</th>\n",
       "      <td>2334</td>\n",
       "      <td>5</td>\n",
       "      <td>40</td>\n",
       "      <td>3</td>\n",
       "      <td>35.60</td>\n",
       "      <td>2022-06-21</td>\n",
       "      <td>Chelsey Dietrich</td>\n",
       "      <td>Kamren</td>\n",
       "      <td>Lucio_Hettinger@annie.ca</td>\n",
       "      <td>Roscoeview</td>\n",
       "      <td>-31.8129</td>\n",
       "      <td>62.5342</td>\n",
       "    </tr>\n",
       "    <tr>\n",
       "      <th>1</th>\n",
       "      <td>6228</td>\n",
       "      <td>8</td>\n",
       "      <td>13</td>\n",
       "      <td>7</td>\n",
       "      <td>36.52</td>\n",
       "      <td>2023-03-08</td>\n",
       "      <td>Nicholas Runolfsdottir V</td>\n",
       "      <td>Maxime_Nienow</td>\n",
       "      <td>Sherwood@rosamond.me</td>\n",
       "      <td>Aliyaview</td>\n",
       "      <td>-14.3990</td>\n",
       "      <td>-120.7677</td>\n",
       "    </tr>\n",
       "    <tr>\n",
       "      <th>2</th>\n",
       "      <td>7784</td>\n",
       "      <td>9</td>\n",
       "      <td>44</td>\n",
       "      <td>4</td>\n",
       "      <td>46.56</td>\n",
       "      <td>2023-04-22</td>\n",
       "      <td>Glenna Reichert</td>\n",
       "      <td>Delphine</td>\n",
       "      <td>Chaim_McDermott@dana.io</td>\n",
       "      <td>Bartholomebury</td>\n",
       "      <td>24.6463</td>\n",
       "      <td>-168.8889</td>\n",
       "    </tr>\n",
       "  </tbody>\n",
       "</table>\n",
       "</div>"
      ],
      "text/plain": [
       "   order_id  customer_id  product_id  quantity  price order_date  \\\n",
       "0      2334            5          40         3  35.60 2022-06-21   \n",
       "1      6228            8          13         7  36.52 2023-03-08   \n",
       "2      7784            9          44         4  46.56 2023-04-22   \n",
       "\n",
       "                       name       username                     email  \\\n",
       "0          Chelsey Dietrich         Kamren  Lucio_Hettinger@annie.ca   \n",
       "1  Nicholas Runolfsdottir V  Maxime_Nienow      Sherwood@rosamond.me   \n",
       "2           Glenna Reichert       Delphine   Chaim_McDermott@dana.io   \n",
       "\n",
       "             city       lat        lng  \n",
       "0      Roscoeview  -31.8129    62.5342  \n",
       "1       Aliyaview  -14.3990  -120.7677  \n",
       "2  Bartholomebury   24.6463  -168.8889  "
      ]
     },
     "execution_count": 61,
     "metadata": {},
     "output_type": "execute_result"
    }
   ],
   "source": [
    "# sales_df left join with final_users_df\n",
    "sales_user_df = sales_df.merge(final_users_df, left_on='customer_id', right_on='id', how='left')\n",
    "\n",
    "# Drop 'id' column\n",
    "sales_user_df.drop('id', axis=1, inplace=True)\n",
    "sales_user_df[0:3]"
   ]
  },
  {
   "cell_type": "code",
   "execution_count": 62,
   "id": "9029e987-67c3-4130-bd69-0012d3d08ecc",
   "metadata": {},
   "outputs": [
    {
     "name": "stdout",
     "output_type": "stream",
     "text": [
      "<class 'pandas.core.frame.DataFrame'>\n",
      "RangeIndex: 1000 entries, 0 to 999\n",
      "Data columns (total 12 columns):\n",
      " #   Column       Non-Null Count  Dtype         \n",
      "---  ------       --------------  -----         \n",
      " 0   order_id     1000 non-null   int64         \n",
      " 1   customer_id  1000 non-null   int64         \n",
      " 2   product_id   1000 non-null   int64         \n",
      " 3   quantity     1000 non-null   int64         \n",
      " 4   price        1000 non-null   float64       \n",
      " 5   order_date   1000 non-null   datetime64[ns]\n",
      " 6   name         1000 non-null   string        \n",
      " 7   username     1000 non-null   string        \n",
      " 8   email        1000 non-null   string        \n",
      " 9   city         1000 non-null   string        \n",
      " 10  lat          1000 non-null   string        \n",
      " 11  lng          1000 non-null   string        \n",
      "dtypes: datetime64[ns](1), float64(1), int64(4), string(6)\n",
      "memory usage: 93.9 KB\n"
     ]
    }
   ],
   "source": [
    "sales_user_df.info()"
   ]
  },
  {
   "cell_type": "markdown",
   "id": "49376fdd-0770-40f3-9651-750512004762",
   "metadata": {},
   "source": [
    "### *** Extract OpenWeatherMap API Data ***"
   ]
  },
  {
   "cell_type": "markdown",
   "id": "592b21b5-ef98-44c1-99d8-47aac3210253",
   "metadata": {},
   "source": [
    "#### Let's add fictional store address"
   ]
  },
  {
   "cell_type": "code",
   "execution_count": 64,
   "id": "f1737740-9280-46d0-92fd-081e37fa9987",
   "metadata": {},
   "outputs": [
    {
     "data": {
      "text/plain": [
       "array([ 5,  8,  9,  3, 10,  7,  4,  1,  2,  6])"
      ]
     },
     "execution_count": 64,
     "metadata": {},
     "output_type": "execute_result"
    }
   ],
   "source": [
    "# Get unique customer_id\n",
    "df = sales_user_df[\"customer_id\"].unique()\n",
    "df"
   ]
  },
  {
   "cell_type": "code",
   "execution_count": 65,
   "id": "57b2fe9c-3b6b-4fe0-b979-cc97734af198",
   "metadata": {},
   "outputs": [
    {
     "data": {
      "text/html": [
       "<div>\n",
       "<style scoped>\n",
       "    .dataframe tbody tr th:only-of-type {\n",
       "        vertical-align: middle;\n",
       "    }\n",
       "\n",
       "    .dataframe tbody tr th {\n",
       "        vertical-align: top;\n",
       "    }\n",
       "\n",
       "    .dataframe thead th {\n",
       "        text-align: right;\n",
       "    }\n",
       "</style>\n",
       "<table border=\"1\" class=\"dataframe\">\n",
       "  <thead>\n",
       "    <tr style=\"text-align: right;\">\n",
       "      <th></th>\n",
       "      <th>cust_id</th>\n",
       "      <th>store_address</th>\n",
       "    </tr>\n",
       "  </thead>\n",
       "  <tbody>\n",
       "    <tr>\n",
       "      <th>0</th>\n",
       "      <td>1</td>\n",
       "      <td>Abu Dhabi</td>\n",
       "    </tr>\n",
       "    <tr>\n",
       "      <th>1</th>\n",
       "      <td>2</td>\n",
       "      <td>Dubai</td>\n",
       "    </tr>\n",
       "    <tr>\n",
       "      <th>2</th>\n",
       "      <td>3</td>\n",
       "      <td>Riyadh</td>\n",
       "    </tr>\n",
       "    <tr>\n",
       "      <th>3</th>\n",
       "      <td>4</td>\n",
       "      <td>London</td>\n",
       "    </tr>\n",
       "    <tr>\n",
       "      <th>4</th>\n",
       "      <td>5</td>\n",
       "      <td>Paris</td>\n",
       "    </tr>\n",
       "    <tr>\n",
       "      <th>5</th>\n",
       "      <td>6</td>\n",
       "      <td>Mumbai</td>\n",
       "    </tr>\n",
       "    <tr>\n",
       "      <th>6</th>\n",
       "      <td>7</td>\n",
       "      <td>Hyderabad</td>\n",
       "    </tr>\n",
       "    <tr>\n",
       "      <th>7</th>\n",
       "      <td>8</td>\n",
       "      <td>Goa</td>\n",
       "    </tr>\n",
       "    <tr>\n",
       "      <th>8</th>\n",
       "      <td>9</td>\n",
       "      <td>Washigton</td>\n",
       "    </tr>\n",
       "    <tr>\n",
       "      <th>9</th>\n",
       "      <td>10</td>\n",
       "      <td>Beijing</td>\n",
       "    </tr>\n",
       "  </tbody>\n",
       "</table>\n",
       "</div>"
      ],
      "text/plain": [
       "   cust_id store_address\n",
       "0        1     Abu Dhabi\n",
       "1        2         Dubai\n",
       "2        3        Riyadh\n",
       "3        4        London\n",
       "4        5         Paris\n",
       "5        6        Mumbai\n",
       "6        7     Hyderabad\n",
       "7        8           Goa\n",
       "8        9     Washigton\n",
       "9       10       Beijing"
      ]
     },
     "execution_count": 65,
     "metadata": {},
     "output_type": "execute_result"
    }
   ],
   "source": [
    "# Add Fictional Store Address for these customer_ids\n",
    "storeAdd_dic = { 1: \"Abu Dhabi\", 2: \"Dubai\", 3: \"Riyadh\", 4: \"London\", 5: \"Paris\", 6: \"Mumbai\", 7: \"Hyderabad\", 8: \"Goa\", 9: \"Washigton\", 10: \"Beijing\" }\n",
    "\n",
    "storeAddres_df = pd.DataFrame(list(storeAdd_dic.items()), columns=['cust_id', 'store_address'])\n",
    "storeAddres_df"
   ]
  },
  {
   "cell_type": "code",
   "execution_count": 89,
   "id": "79fe438c-07ac-462a-b885-5d883dfb386b",
   "metadata": {},
   "outputs": [
    {
     "data": {
      "text/html": [
       "<div>\n",
       "<style scoped>\n",
       "    .dataframe tbody tr th:only-of-type {\n",
       "        vertical-align: middle;\n",
       "    }\n",
       "\n",
       "    .dataframe tbody tr th {\n",
       "        vertical-align: top;\n",
       "    }\n",
       "\n",
       "    .dataframe thead th {\n",
       "        text-align: right;\n",
       "    }\n",
       "</style>\n",
       "<table border=\"1\" class=\"dataframe\">\n",
       "  <thead>\n",
       "    <tr style=\"text-align: right;\">\n",
       "      <th></th>\n",
       "      <th>order_id</th>\n",
       "      <th>customer_id</th>\n",
       "      <th>product_id</th>\n",
       "      <th>quantity</th>\n",
       "      <th>price</th>\n",
       "      <th>order_date</th>\n",
       "      <th>name</th>\n",
       "      <th>username</th>\n",
       "      <th>email</th>\n",
       "      <th>city</th>\n",
       "      <th>lat</th>\n",
       "      <th>lng</th>\n",
       "      <th>store_address</th>\n",
       "    </tr>\n",
       "  </thead>\n",
       "  <tbody>\n",
       "    <tr>\n",
       "      <th>0</th>\n",
       "      <td>2334</td>\n",
       "      <td>5</td>\n",
       "      <td>40</td>\n",
       "      <td>3</td>\n",
       "      <td>35.60</td>\n",
       "      <td>2022-06-21</td>\n",
       "      <td>Chelsey Dietrich</td>\n",
       "      <td>Kamren</td>\n",
       "      <td>Lucio_Hettinger@annie.ca</td>\n",
       "      <td>Roscoeview</td>\n",
       "      <td>-31.8129</td>\n",
       "      <td>62.5342</td>\n",
       "      <td>Paris</td>\n",
       "    </tr>\n",
       "    <tr>\n",
       "      <th>1</th>\n",
       "      <td>6228</td>\n",
       "      <td>8</td>\n",
       "      <td>13</td>\n",
       "      <td>7</td>\n",
       "      <td>36.52</td>\n",
       "      <td>2023-03-08</td>\n",
       "      <td>Nicholas Runolfsdottir V</td>\n",
       "      <td>Maxime_Nienow</td>\n",
       "      <td>Sherwood@rosamond.me</td>\n",
       "      <td>Aliyaview</td>\n",
       "      <td>-14.3990</td>\n",
       "      <td>-120.7677</td>\n",
       "      <td>Goa</td>\n",
       "    </tr>\n",
       "    <tr>\n",
       "      <th>2</th>\n",
       "      <td>7784</td>\n",
       "      <td>9</td>\n",
       "      <td>44</td>\n",
       "      <td>4</td>\n",
       "      <td>46.56</td>\n",
       "      <td>2023-04-22</td>\n",
       "      <td>Glenna Reichert</td>\n",
       "      <td>Delphine</td>\n",
       "      <td>Chaim_McDermott@dana.io</td>\n",
       "      <td>Bartholomebury</td>\n",
       "      <td>24.6463</td>\n",
       "      <td>-168.8889</td>\n",
       "      <td>Washigton</td>\n",
       "    </tr>\n",
       "  </tbody>\n",
       "</table>\n",
       "</div>"
      ],
      "text/plain": [
       "   order_id  customer_id  product_id  quantity  price order_date  \\\n",
       "0      2334            5          40         3  35.60 2022-06-21   \n",
       "1      6228            8          13         7  36.52 2023-03-08   \n",
       "2      7784            9          44         4  46.56 2023-04-22   \n",
       "\n",
       "                       name       username                     email  \\\n",
       "0          Chelsey Dietrich         Kamren  Lucio_Hettinger@annie.ca   \n",
       "1  Nicholas Runolfsdottir V  Maxime_Nienow      Sherwood@rosamond.me   \n",
       "2           Glenna Reichert       Delphine   Chaim_McDermott@dana.io   \n",
       "\n",
       "             city       lat        lng store_address  \n",
       "0      Roscoeview  -31.8129    62.5342         Paris  \n",
       "1       Aliyaview  -14.3990  -120.7677           Goa  \n",
       "2  Bartholomebury   24.6463  -168.8889     Washigton  "
      ]
     },
     "execution_count": 89,
     "metadata": {},
     "output_type": "execute_result"
    }
   ],
   "source": [
    "# Add these Store Address to sales_user_df\n",
    "salesUser_df = sales_user_df.merge(storeAddres_df, left_on='customer_id', right_on='cust_id', how='left')\n",
    "\n",
    "# Drop 'cust_id' column\n",
    "salesUser_df.drop('cust_id', axis=1, inplace=True)\n",
    "salesUser_df[0:3]"
   ]
  },
  {
   "cell_type": "markdown",
   "id": "2b62a5ee-0621-4225-aa6d-026be69108e2",
   "metadata": {},
   "source": [
    "#### Get the list of store Address to extract Weather"
   ]
  },
  {
   "cell_type": "code",
   "execution_count": 71,
   "id": "16b777c3-73ce-41c7-9379-d0dab3c46f37",
   "metadata": {},
   "outputs": [
    {
     "data": {
      "text/plain": [
       "['Riyadh',\n",
       " 'Abu Dhabi',\n",
       " 'Goa',\n",
       " 'Paris',\n",
       " 'Washigton',\n",
       " 'Hyderabad',\n",
       " 'London',\n",
       " 'Beijing',\n",
       " 'Dubai',\n",
       " 'Mumbai']"
      ]
     },
     "execution_count": 71,
     "metadata": {},
     "output_type": "execute_result"
    }
   ],
   "source": [
    "storeAddress_list = salesUser_df[[\"store_address\"]].values.tolist()\n",
    "storeAddresses = [item for List in storeAddress_list for item in List]\n",
    "\n",
    "# Remove duplicates\n",
    "storeAddresses = list(set(storeAddresses))\n",
    "storeAddresses"
   ]
  },
  {
   "cell_type": "markdown",
   "id": "2f45b256-950e-4474-aa6d-955b717910c8",
   "metadata": {},
   "source": [
    "#### Get Weather Data"
   ]
  },
  {
   "cell_type": "code",
   "execution_count": 74,
   "id": "27dfd163-2569-4feb-8e28-cf1cb2dc5560",
   "metadata": {},
   "outputs": [],
   "source": [
    "# Function to extract Weather Data\n",
    "def get_weather_data(api_key, storeAddress):\n",
    "   #--------------------------------------------------#\n",
    "   # function: get_weather_data\n",
    "   # Objective: To extract weather information\n",
    "   # Inputs: Access Key -> api_key & city name \n",
    "   #---------------------------------------------------#\n",
    "    \n",
    "    URL='http://api.openweathermap.org/data/2.5/weather?appid={}&q={}'.format(api_key,storeAddress)\n",
    "    #print(URL)\n",
    "\n",
    "    weather_data = requests.get(URL).json()\n",
    "    weather_dic = dict()\n",
    "   \n",
    "    if weather_data['cod'] != '404':\n",
    "       main_info = weather_data['main']\n",
    "       temperature = main_info['temp']\n",
    "       temp_min = main_info['temp_min']\n",
    "       temp_max = main_info['temp_max']\n",
    "       pressure = main_info['pressure']\n",
    "       humidity = main_info['humidity']\n",
    "       description = weather_data['weather'][0]['description']\n",
    "\n",
    "       weather_dic = {\n",
    "       'store_address':[storeAddress],   \n",
    "       'temperature':[temperature], \n",
    "       'temp_min':[temp_min], \n",
    "       'temp_max':[temp_max], \n",
    "       'pressure':[pressure], \n",
    "       'humidity':[humidity], \n",
    "       'description':[description]\n",
    "       }\n",
    "\n",
    "    return weather_dic"
   ]
  },
  {
   "cell_type": "code",
   "execution_count": 75,
   "id": "fbe0ad4f-a2d8-4375-9bb1-4c07ee9498d7",
   "metadata": {},
   "outputs": [
    {
     "data": {
      "text/html": [
       "<div>\n",
       "<style scoped>\n",
       "    .dataframe tbody tr th:only-of-type {\n",
       "        vertical-align: middle;\n",
       "    }\n",
       "\n",
       "    .dataframe tbody tr th {\n",
       "        vertical-align: top;\n",
       "    }\n",
       "\n",
       "    .dataframe thead th {\n",
       "        text-align: right;\n",
       "    }\n",
       "</style>\n",
       "<table border=\"1\" class=\"dataframe\">\n",
       "  <thead>\n",
       "    <tr style=\"text-align: right;\">\n",
       "      <th></th>\n",
       "      <th>store_address</th>\n",
       "      <th>temperature</th>\n",
       "      <th>temp_min</th>\n",
       "      <th>temp_max</th>\n",
       "      <th>pressure</th>\n",
       "      <th>humidity</th>\n",
       "      <th>description</th>\n",
       "    </tr>\n",
       "  </thead>\n",
       "  <tbody>\n",
       "    <tr>\n",
       "      <th>0</th>\n",
       "      <td>Riyadh</td>\n",
       "      <td>308.23</td>\n",
       "      <td>308.23</td>\n",
       "      <td>308.23</td>\n",
       "      <td>1007</td>\n",
       "      <td>12</td>\n",
       "      <td>clear sky</td>\n",
       "    </tr>\n",
       "    <tr>\n",
       "      <th>0</th>\n",
       "      <td>Abu Dhabi</td>\n",
       "      <td>303.70</td>\n",
       "      <td>302.21</td>\n",
       "      <td>304.23</td>\n",
       "      <td>1007</td>\n",
       "      <td>63</td>\n",
       "      <td>clear sky</td>\n",
       "    </tr>\n",
       "    <tr>\n",
       "      <th>0</th>\n",
       "      <td>Goa</td>\n",
       "      <td>300.27</td>\n",
       "      <td>300.27</td>\n",
       "      <td>300.27</td>\n",
       "      <td>1006</td>\n",
       "      <td>88</td>\n",
       "      <td>overcast clouds</td>\n",
       "    </tr>\n",
       "  </tbody>\n",
       "</table>\n",
       "</div>"
      ],
      "text/plain": [
       "  store_address  temperature  temp_min  temp_max  pressure  humidity  \\\n",
       "0        Riyadh       308.23    308.23    308.23      1007        12   \n",
       "0     Abu Dhabi       303.70    302.21    304.23      1007        63   \n",
       "0           Goa       300.27    300.27    300.27      1006        88   \n",
       "\n",
       "       description  \n",
       "0        clear sky  \n",
       "0        clear sky  \n",
       "0  overcast clouds  "
      ]
     },
     "execution_count": 75,
     "metadata": {},
     "output_type": "execute_result"
    }
   ],
   "source": [
    "# Define parameters \n",
    "api_key = '0af07f370755b7d0154e883fbd374480'\n",
    "\n",
    "full_weather_df = pd.DataFrame()\n",
    "\n",
    "for storeAddress in storeAddresses:\n",
    "    weather_dic = get_weather_data(api_key, storeAddress)\n",
    "    df = pd.DataFrame(weather_dic)\n",
    "    full_weather_df = pd.concat([full_weather_df, df], axis=0)\n",
    "\n",
    "full_weather_df[0:3]"
   ]
  },
  {
   "cell_type": "markdown",
   "id": "82343ba8-5b3d-4a5d-a95e-e6f4b6b5bc73",
   "metadata": {},
   "source": [
    "#### Data Quality Check and Data Standardization"
   ]
  },
  {
   "cell_type": "code",
   "execution_count": 84,
   "id": "134b800e-b96e-4bbc-aca0-86c2d4e11156",
   "metadata": {},
   "outputs": [
    {
     "data": {
      "text/plain": [
       "store_address     object\n",
       "temperature      float64\n",
       "temp_min         float64\n",
       "temp_max         float64\n",
       "pressure           int64\n",
       "humidity           int64\n",
       "description       object\n",
       "dtype: object"
      ]
     },
     "execution_count": 84,
     "metadata": {},
     "output_type": "execute_result"
    }
   ],
   "source": [
    "# Data type of each attribute\n",
    "full_weather_df.dtypes"
   ]
  },
  {
   "cell_type": "code",
   "execution_count": 86,
   "id": "3261b1eb-7c67-418a-9c3e-0d67ebed802d",
   "metadata": {},
   "outputs": [
    {
     "data": {
      "text/plain": [
       "store_address    string[python]\n",
       "temperature             Float64\n",
       "temp_min                Float64\n",
       "temp_max                Float64\n",
       "pressure                  Int64\n",
       "humidity                  Int64\n",
       "description      string[python]\n",
       "dtype: object"
      ]
     },
     "execution_count": 86,
     "metadata": {},
     "output_type": "execute_result"
    }
   ],
   "source": [
    "# Convert object datatypes to appropriate datatypes\n",
    "full_weather_df = full_weather_df.convert_dtypes()\n",
    "full_weather_df.dtypes"
   ]
  },
  {
   "cell_type": "markdown",
   "id": "19f8257d-2072-44bb-8629-1f0bf28141fd",
   "metadata": {},
   "source": [
    "#### Join weather data to salesUser_df"
   ]
  },
  {
   "cell_type": "code",
   "execution_count": 87,
   "id": "383e6212-74cf-4b6e-a1e7-077988511cdd",
   "metadata": {},
   "outputs": [
    {
     "name": "stdout",
     "output_type": "stream",
     "text": [
      "<class 'pandas.core.frame.DataFrame'>\n",
      "Index: 9 entries, 0 to 0\n",
      "Data columns (total 7 columns):\n",
      " #   Column         Non-Null Count  Dtype  \n",
      "---  ------         --------------  -----  \n",
      " 0   store_address  9 non-null      string \n",
      " 1   temperature    9 non-null      Float64\n",
      " 2   temp_min       9 non-null      Float64\n",
      " 3   temp_max       9 non-null      Float64\n",
      " 4   pressure       9 non-null      Int64  \n",
      " 5   humidity       9 non-null      Int64  \n",
      " 6   description    9 non-null      string \n",
      "dtypes: Float64(3), Int64(2), string(2)\n",
      "memory usage: 621.0 bytes\n"
     ]
    }
   ],
   "source": [
    "full_weather_df.info()"
   ]
  },
  {
   "cell_type": "code",
   "execution_count": 100,
   "id": "57327763-95f3-4059-8d8f-284e8de4b909",
   "metadata": {},
   "outputs": [
    {
     "data": {
      "text/html": [
       "<div>\n",
       "<style scoped>\n",
       "    .dataframe tbody tr th:only-of-type {\n",
       "        vertical-align: middle;\n",
       "    }\n",
       "\n",
       "    .dataframe tbody tr th {\n",
       "        vertical-align: top;\n",
       "    }\n",
       "\n",
       "    .dataframe thead th {\n",
       "        text-align: right;\n",
       "    }\n",
       "</style>\n",
       "<table border=\"1\" class=\"dataframe\">\n",
       "  <thead>\n",
       "    <tr style=\"text-align: right;\">\n",
       "      <th></th>\n",
       "      <th>order_id</th>\n",
       "      <th>customer_id</th>\n",
       "      <th>product_id</th>\n",
       "      <th>quantity</th>\n",
       "      <th>price</th>\n",
       "      <th>order_date</th>\n",
       "      <th>name</th>\n",
       "      <th>username</th>\n",
       "      <th>email</th>\n",
       "      <th>city</th>\n",
       "      <th>lat</th>\n",
       "      <th>lng</th>\n",
       "      <th>store_address</th>\n",
       "      <th>temperature</th>\n",
       "      <th>temp_min</th>\n",
       "      <th>temp_max</th>\n",
       "      <th>pressure</th>\n",
       "      <th>humidity</th>\n",
       "      <th>description</th>\n",
       "    </tr>\n",
       "  </thead>\n",
       "  <tbody>\n",
       "    <tr>\n",
       "      <th>0</th>\n",
       "      <td>2334</td>\n",
       "      <td>5</td>\n",
       "      <td>40</td>\n",
       "      <td>3</td>\n",
       "      <td>35.60</td>\n",
       "      <td>2022-06-21</td>\n",
       "      <td>Chelsey Dietrich</td>\n",
       "      <td>Kamren</td>\n",
       "      <td>Lucio_Hettinger@annie.ca</td>\n",
       "      <td>Roscoeview</td>\n",
       "      <td>-31.8129</td>\n",
       "      <td>62.5342</td>\n",
       "      <td>Paris</td>\n",
       "      <td>288.93</td>\n",
       "      <td>287.49</td>\n",
       "      <td>290.47</td>\n",
       "      <td>1009</td>\n",
       "      <td>89</td>\n",
       "      <td>drizzle</td>\n",
       "    </tr>\n",
       "    <tr>\n",
       "      <th>1</th>\n",
       "      <td>6228</td>\n",
       "      <td>8</td>\n",
       "      <td>13</td>\n",
       "      <td>7</td>\n",
       "      <td>36.52</td>\n",
       "      <td>2023-03-08</td>\n",
       "      <td>Nicholas Runolfsdottir V</td>\n",
       "      <td>Maxime_Nienow</td>\n",
       "      <td>Sherwood@rosamond.me</td>\n",
       "      <td>Aliyaview</td>\n",
       "      <td>-14.3990</td>\n",
       "      <td>-120.7677</td>\n",
       "      <td>Goa</td>\n",
       "      <td>300.27</td>\n",
       "      <td>300.27</td>\n",
       "      <td>300.27</td>\n",
       "      <td>1006</td>\n",
       "      <td>88</td>\n",
       "      <td>overcast clouds</td>\n",
       "    </tr>\n",
       "    <tr>\n",
       "      <th>2</th>\n",
       "      <td>7784</td>\n",
       "      <td>9</td>\n",
       "      <td>44</td>\n",
       "      <td>4</td>\n",
       "      <td>46.56</td>\n",
       "      <td>2023-04-22</td>\n",
       "      <td>Glenna Reichert</td>\n",
       "      <td>Delphine</td>\n",
       "      <td>Chaim_McDermott@dana.io</td>\n",
       "      <td>Bartholomebury</td>\n",
       "      <td>24.6463</td>\n",
       "      <td>-168.8889</td>\n",
       "      <td>Washigton</td>\n",
       "      <td>&lt;NA&gt;</td>\n",
       "      <td>&lt;NA&gt;</td>\n",
       "      <td>&lt;NA&gt;</td>\n",
       "      <td>&lt;NA&gt;</td>\n",
       "      <td>&lt;NA&gt;</td>\n",
       "      <td>&lt;NA&gt;</td>\n",
       "    </tr>\n",
       "    <tr>\n",
       "      <th>3</th>\n",
       "      <td>6588</td>\n",
       "      <td>5</td>\n",
       "      <td>26</td>\n",
       "      <td>1</td>\n",
       "      <td>15.87</td>\n",
       "      <td>2022-10-23</td>\n",
       "      <td>Chelsey Dietrich</td>\n",
       "      <td>Kamren</td>\n",
       "      <td>Lucio_Hettinger@annie.ca</td>\n",
       "      <td>Roscoeview</td>\n",
       "      <td>-31.8129</td>\n",
       "      <td>62.5342</td>\n",
       "      <td>Paris</td>\n",
       "      <td>288.93</td>\n",
       "      <td>287.49</td>\n",
       "      <td>290.47</td>\n",
       "      <td>1009</td>\n",
       "      <td>89</td>\n",
       "      <td>drizzle</td>\n",
       "    </tr>\n",
       "    <tr>\n",
       "      <th>4</th>\n",
       "      <td>5910</td>\n",
       "      <td>8</td>\n",
       "      <td>32</td>\n",
       "      <td>10</td>\n",
       "      <td>77.00</td>\n",
       "      <td>2022-10-05</td>\n",
       "      <td>Nicholas Runolfsdottir V</td>\n",
       "      <td>Maxime_Nienow</td>\n",
       "      <td>Sherwood@rosamond.me</td>\n",
       "      <td>Aliyaview</td>\n",
       "      <td>-14.3990</td>\n",
       "      <td>-120.7677</td>\n",
       "      <td>Goa</td>\n",
       "      <td>300.27</td>\n",
       "      <td>300.27</td>\n",
       "      <td>300.27</td>\n",
       "      <td>1006</td>\n",
       "      <td>88</td>\n",
       "      <td>overcast clouds</td>\n",
       "    </tr>\n",
       "  </tbody>\n",
       "</table>\n",
       "</div>"
      ],
      "text/plain": [
       "   order_id  customer_id  product_id  quantity  price order_date  \\\n",
       "0      2334            5          40         3  35.60 2022-06-21   \n",
       "1      6228            8          13         7  36.52 2023-03-08   \n",
       "2      7784            9          44         4  46.56 2023-04-22   \n",
       "3      6588            5          26         1  15.87 2022-10-23   \n",
       "4      5910            8          32        10  77.00 2022-10-05   \n",
       "\n",
       "                       name       username                     email  \\\n",
       "0          Chelsey Dietrich         Kamren  Lucio_Hettinger@annie.ca   \n",
       "1  Nicholas Runolfsdottir V  Maxime_Nienow      Sherwood@rosamond.me   \n",
       "2           Glenna Reichert       Delphine   Chaim_McDermott@dana.io   \n",
       "3          Chelsey Dietrich         Kamren  Lucio_Hettinger@annie.ca   \n",
       "4  Nicholas Runolfsdottir V  Maxime_Nienow      Sherwood@rosamond.me   \n",
       "\n",
       "             city       lat        lng store_address  temperature  temp_min  \\\n",
       "0      Roscoeview  -31.8129    62.5342         Paris       288.93    287.49   \n",
       "1       Aliyaview  -14.3990  -120.7677           Goa       300.27    300.27   \n",
       "2  Bartholomebury   24.6463  -168.8889     Washigton         <NA>      <NA>   \n",
       "3      Roscoeview  -31.8129    62.5342         Paris       288.93    287.49   \n",
       "4       Aliyaview  -14.3990  -120.7677           Goa       300.27    300.27   \n",
       "\n",
       "   temp_max  pressure  humidity      description  \n",
       "0    290.47      1009        89          drizzle  \n",
       "1    300.27      1006        88  overcast clouds  \n",
       "2      <NA>      <NA>      <NA>             <NA>  \n",
       "3    290.47      1009        89          drizzle  \n",
       "4    300.27      1006        88  overcast clouds  "
      ]
     },
     "execution_count": 100,
     "metadata": {},
     "output_type": "execute_result"
    }
   ],
   "source": [
    "finalTranSales_df = salesUser_df.merge(full_weather_df, left_on='store_address', right_on='store_address', how='left')\n",
    "finalTranSales_df[0:5]"
   ]
  },
  {
   "cell_type": "code",
   "execution_count": 101,
   "id": "01327d88-5940-44f0-b5b4-508d9481e132",
   "metadata": {},
   "outputs": [
    {
     "data": {
      "text/plain": [
       "order_id                  int64\n",
       "customer_id               int64\n",
       "product_id                int64\n",
       "quantity                  int64\n",
       "price                   float64\n",
       "order_date       datetime64[ns]\n",
       "name             string[python]\n",
       "username         string[python]\n",
       "email            string[python]\n",
       "city             string[python]\n",
       "lat              string[python]\n",
       "lng              string[python]\n",
       "store_address            object\n",
       "temperature             Float64\n",
       "temp_min                Float64\n",
       "temp_max                Float64\n",
       "pressure                  Int64\n",
       "humidity                  Int64\n",
       "description      string[python]\n",
       "dtype: object"
      ]
     },
     "execution_count": 101,
     "metadata": {},
     "output_type": "execute_result"
    }
   ],
   "source": [
    "finalTranSales_df.dtypes"
   ]
  },
  {
   "cell_type": "code",
   "execution_count": 102,
   "id": "f37d08ce-9521-4e7f-9b83-efa24de4839d",
   "metadata": {},
   "outputs": [
    {
     "data": {
      "text/plain": [
       "order_id                  Int64\n",
       "customer_id               Int64\n",
       "product_id                Int64\n",
       "quantity                  Int64\n",
       "price                   Float64\n",
       "order_date       datetime64[ns]\n",
       "name             string[python]\n",
       "username         string[python]\n",
       "email            string[python]\n",
       "city             string[python]\n",
       "lat              string[python]\n",
       "lng              string[python]\n",
       "store_address    string[python]\n",
       "temperature             Float64\n",
       "temp_min                Float64\n",
       "temp_max                Float64\n",
       "pressure                  Int64\n",
       "humidity                  Int64\n",
       "description      string[python]\n",
       "dtype: object"
      ]
     },
     "execution_count": 102,
     "metadata": {},
     "output_type": "execute_result"
    }
   ],
   "source": [
    "# Convert object datatypes to appropriate datatypes\n",
    "finalTranSales_df = finalTranSales_df.convert_dtypes()\n",
    "finalTranSales_df.dtypes"
   ]
  },
  {
   "cell_type": "markdown",
   "id": "639e61e4-c012-4dad-930f-8b3a797f3439",
   "metadata": {},
   "source": [
    "#### Write tranformed data into PostgreSql table"
   ]
  },
  {
   "cell_type": "code",
   "execution_count": 103,
   "id": "994b84bb-759f-47b1-b26c-e0c3f8b95990",
   "metadata": {},
   "outputs": [],
   "source": [
    "# Import Spark Libraries\n",
    "from pyspark.sql import SparkSession\n",
    "from pyspark.sql.types import StructType, StructField, StringType, IntegerType, DateType, DoubleType, TimestampType\n",
    "\n",
    "# Spark Session\n",
    "spark = SparkSession.builder.appName(\"AIQ Assignment\") \\\n",
    "            .config(\"spark.jars.packages\",\"org.postgresql:postgresql:42.5.4\") \\\n",
    "            .getOrCreate()\n",
    "\n",
    "#Dont Show warning only error\n",
    "spark.sparkContext.setLogLevel(\"ERROR\")"
   ]
  },
  {
   "cell_type": "code",
   "execution_count": 104,
   "id": "bbfc6669-9427-4d53-8710-4973016ac1b3",
   "metadata": {},
   "outputs": [
    {
     "name": "stdout",
     "output_type": "stream",
     "text": [
      "<class 'pandas.core.frame.DataFrame'>\n",
      "RangeIndex: 1000 entries, 0 to 999\n",
      "Data columns (total 19 columns):\n",
      " #   Column         Non-Null Count  Dtype         \n",
      "---  ------         --------------  -----         \n",
      " 0   order_id       1000 non-null   Int64         \n",
      " 1   customer_id    1000 non-null   Int64         \n",
      " 2   product_id     1000 non-null   Int64         \n",
      " 3   quantity       1000 non-null   Int64         \n",
      " 4   price          1000 non-null   Float64       \n",
      " 5   order_date     1000 non-null   datetime64[ns]\n",
      " 6   name           1000 non-null   string        \n",
      " 7   username       1000 non-null   string        \n",
      " 8   email          1000 non-null   string        \n",
      " 9   city           1000 non-null   string        \n",
      " 10  lat            1000 non-null   string        \n",
      " 11  lng            1000 non-null   string        \n",
      " 12  store_address  1000 non-null   string        \n",
      " 13  temperature    894 non-null    Float64       \n",
      " 14  temp_min       894 non-null    Float64       \n",
      " 15  temp_max       894 non-null    Float64       \n",
      " 16  pressure       894 non-null    Int64         \n",
      " 17  humidity       894 non-null    Int64         \n",
      " 18  description    894 non-null    string        \n",
      "dtypes: Float64(4), Int64(6), datetime64[ns](1), string(8)\n",
      "memory usage: 158.3 KB\n"
     ]
    }
   ],
   "source": [
    "finalTranSales_df.info()"
   ]
  },
  {
   "cell_type": "code",
   "execution_count": 105,
   "id": "b3e706d5-965d-4d05-896a-a3e695a58dd2",
   "metadata": {},
   "outputs": [],
   "source": [
    "# Define schema\n",
    "tr_sales_schema = StructType([\n",
    "    StructField(\"order_id\", IntegerType(), False),\n",
    "    StructField(\"customer_id\", IntegerType(), True),\n",
    "    StructField(\"product_id\", IntegerType(), True),\n",
    "    StructField(\"quantity\", IntegerType(), True),\n",
    "    StructField(\"price\", DoubleType(), True),\n",
    "    StructField(\"order_date\", TimestampType(), True),\n",
    "    StructField(\"name\", StringType(), True),\n",
    "    StructField(\"username\", StringType(), True),\n",
    "    StructField(\"email\", StringType(), True),\n",
    "    StructField(\"city\", StringType(), True),\n",
    "    StructField(\"lat\", StringType(), True),\n",
    "    StructField(\"lng\", StringType(), True),\n",
    "    StructField(\"store_address\", StringType(), True),\n",
    "    StructField(\"temperature\", StringType(), True),\n",
    "    StructField(\"temp_min\", StringType(), True),\n",
    "    StructField(\"temp_max\", StringType(), True),\n",
    "    StructField(\"pressure\", StringType(), True),\n",
    "    StructField(\"humidity\", StringType(), True),\n",
    "    StructField(\"description\", StringType(), True)\n",
    "])"
   ]
  },
  {
   "cell_type": "code",
   "execution_count": 106,
   "id": "f318bb82-f91d-40a6-9e2a-5a0ae6aaec0e",
   "metadata": {},
   "outputs": [],
   "source": [
    "finalTranSales_df = spark.createDataFrame(finalTranSales_df, schema=tr_sales_schema)"
   ]
  },
  {
   "cell_type": "code",
   "execution_count": 107,
   "id": "c695065c-ebb1-41ba-9b17-077d57782227",
   "metadata": {},
   "outputs": [
    {
     "name": "stderr",
     "output_type": "stream",
     "text": [
      "                                                                                \r"
     ]
    }
   ],
   "source": [
    "finalTranSales_df.write \\\n",
    "    .format(\"jdbc\") \\\n",
    "    .option(\"url\", \"jdbc:postgresql://192.168.5.154:5432/postgres\") \\\n",
    "    .option(\"driver\", \"org.postgresql.Driver\") \\\n",
    "    .option(\"dbtable\", \"aiq.tra_sales\") \\\n",
    "    .option(\"user\", \"postgres\") \\\n",
    "    .option(\"password\", \"postgres\")\\\n",
    "    .mode(\"overwrite\") \\\n",
    "    .save()\n",
    "\n",
    "# Note: 192.168.5.154 is IP address of Host Machine"
   ]
  }
 ],
 "metadata": {
  "kernelspec": {
   "display_name": "Python 3 (ipykernel)",
   "language": "python",
   "name": "python3"
  },
  "language_info": {
   "codemirror_mode": {
    "name": "ipython",
    "version": 3
   },
   "file_extension": ".py",
   "mimetype": "text/x-python",
   "name": "python",
   "nbconvert_exporter": "python",
   "pygments_lexer": "ipython3",
   "version": "3.8.13"
  }
 },
 "nbformat": 4,
 "nbformat_minor": 5
}
