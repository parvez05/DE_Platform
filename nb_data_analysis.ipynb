{
 "cells": [
  {
   "cell_type": "markdown",
   "id": "24a53886-3b7f-4eb0-8d1b-bd8e27c85196",
   "metadata": {},
   "source": [
    "### Notebook to perform Analysis and get insight about Data\n",
    "* 1) Calculate total sales amount per customer\n",
    "* 2) Determine the average order quantity per product\n",
    "* 3) Identify the top-selling products or customers\n",
    "* 4) Analyze sales trends over time (e.g., monthly or quarterly sales)\n",
    "* 5) Include any other aggregations or data manipulations that you think are relevant\n",
    "* 6) Include weather data in the analysis (e.g., average sales amount per weather condition)\n"
   ]
  },
  {
   "cell_type": "markdown",
   "id": "8da6da6e-b38b-4b73-8ee2-323dbc2c127a",
   "metadata": {},
   "source": [
    "### Include Required libraries"
   ]
  },
  {
   "cell_type": "code",
   "execution_count": 39,
   "id": "96a105e2-db3b-4520-be36-5958199994a0",
   "metadata": {},
   "outputs": [],
   "source": [
    "from pyspark.sql import SparkSession\n",
    "from pyspark.sql.functions import sum, avg, year, month"
   ]
  },
  {
   "cell_type": "markdown",
   "id": "f96e8771-f7c1-46eb-b6f1-ad359f370a8e",
   "metadata": {},
   "source": [
    "### Create Spark Session"
   ]
  },
  {
   "cell_type": "code",
   "execution_count": 15,
   "id": "717278f9-1be4-4703-9819-93c49bb38eed",
   "metadata": {},
   "outputs": [],
   "source": [
    "# Spark Session\n",
    "spark = SparkSession.builder.appName(\"AIQ Assignment\") \\\n",
    "            .config(\"spark.jars.packages\",\"org.postgresql:postgresql:42.5.4\") \\\n",
    "            .getOrCreate()\n",
    "\n",
    "sqlContext = SparkSession(spark)\n",
    "\n",
    "#Dont Show warning only error\n",
    "spark.sparkContext.setLogLevel(\"ERROR\")"
   ]
  },
  {
   "cell_type": "markdown",
   "id": "ce8fe9c6-2c96-492b-8977-4fcac516c35a",
   "metadata": {},
   "source": [
    "### Read Transformed Data from table"
   ]
  },
  {
   "cell_type": "code",
   "execution_count": 13,
   "id": "b3b21d3a-d605-4d50-84b3-bcaac5e531cf",
   "metadata": {},
   "outputs": [
    {
     "name": "stdout",
     "output_type": "stream",
     "text": [
      "+--------+-----------+----------+--------+-----+-------------------+----------------+--------+--------------------+--------------+--------+---------+-------------+--------------------+--------------------+--------------------+--------------------+--------------------+--------------------+\n",
      "|order_id|customer_id|product_id|quantity|price|         order_date|            name|username|               email|          city|     lat|      lng|store_address|         temperature|            temp_min|            temp_max|            pressure|            humidity|         description|\n",
      "+--------+-----------+----------+--------+-----+-------------------+----------------+--------+--------------------+--------------+--------+---------+-------------+--------------------+--------------------+--------------------+--------------------+--------------------+--------------------+\n",
      "|    5862|          5|        14|       2|29.35|2022-12-12 00:00:00|Chelsey Dietrich|  Kamren|Lucio_Hettinger@a...|    Roscoeview|-31.8129|  62.5342|        Paris|              288.93|              287.49|              290.47|                1009|                  89|             drizzle|\n",
      "|    2975|          9|        39|       3|57.33|2022-09-04 00:00:00| Glenna Reichert|Delphine|Chaim_McDermott@d...|Bartholomebury| 24.6463|-168.8889|    Washigton|net.razorvine.pic...|net.razorvine.pic...|net.razorvine.pic...|net.razorvine.pic...|net.razorvine.pic...|net.razorvine.pic...|\n",
      "+--------+-----------+----------+--------+-----+-------------------+----------------+--------+--------------------+--------------+--------+---------+-------------+--------------------+--------------------+--------------------+--------------------+--------------------+--------------------+\n",
      "only showing top 2 rows\n",
      "\n"
     ]
    }
   ],
   "source": [
    "trSales_df = spark.read \\\n",
    "  .format(\"jdbc\") \\\n",
    "  .option(\"url\", \"jdbc:postgresql://192.168.5.154:5432/postgres\") \\\n",
    "  .option(\"driver\", \"org.postgresql.Driver\") \\\n",
    "  .option(\"dbtable\", \"aiq.tra_sales\") \\\n",
    "  .option(\"user\", \"postgres\") \\\n",
    "  .option(\"password\", \"postgres\")\\\n",
    "  .load()\n",
    "\n",
    "trSales_df.createOrReplaceTempView(\"tra_sales\") \n",
    "trSales_df.show(2)"
   ]
  },
  {
   "cell_type": "markdown",
   "id": "a18b680f-e0c4-461c-a79e-42ce8ef88459",
   "metadata": {},
   "source": [
    "### 1.) Calculate total sales amount per customer"
   ]
  },
  {
   "cell_type": "code",
   "execution_count": 43,
   "id": "f717342c-26e6-4f1a-a0f2-c5c296b29ab6",
   "metadata": {},
   "outputs": [
    {
     "name": "stdout",
     "output_type": "stream",
     "text": [
      "+--------------------+------------------+\n",
      "|                name|total_sales_amount|\n",
      "+--------------------+------------------+\n",
      "|  Clementina DuBuque|          36704.17|\n",
      "|        Ervin Howell|          33147.26|\n",
      "|     Glenna Reichert|          33040.69|\n",
      "|Nicholas Runolfsd...|          31860.25|\n",
      "|    Chelsey Dietrich|          31156.73|\n",
      "|    Clementine Bauch|           31018.8|\n",
      "|Mrs. Dennis Schulist|          30168.84|\n",
      "|     Kurtis Weissnat|          28737.81|\n",
      "|    Patricia Lebsack|          28625.48|\n",
      "|       Leanne Graham|          24680.98|\n",
      "+--------------------+------------------+\n",
      "\n"
     ]
    }
   ],
   "source": [
    "totalSalPerCust_df = sqlContext.sql('''\n",
    "\t\t\tWITH salesRes\n",
    "\t\t\tAS(\n",
    "\t\t\t\tSELECT name,\n",
    "\t\t\t\t\tSUM(quantity * price) AS total_sales\n",
    "\t\t\t\tFROM tra_sales\n",
    "\t\t\t\tGROUP BY name\n",
    "\t\t\t)\n",
    "\t\t\tSELECT name, ROUND(total_sales, 2) AS total_sales_amount\n",
    "\t\t\tFROM salesRes\n",
    "\t\t\tORDER BY total_sales DESC\n",
    "        ''')\n",
    "\t\t\n",
    "totalSalPerCust_df.show()"
   ]
  },
  {
   "cell_type": "markdown",
   "id": "35c45c35-b870-43af-9e3a-4788eb850141",
   "metadata": {},
   "source": [
    "### 2.) Determine the average order quantity per product"
   ]
  },
  {
   "cell_type": "code",
   "execution_count": 37,
   "id": "65f6c87f-761c-43ad-b9da-de68247af757",
   "metadata": {},
   "outputs": [
    {
     "name": "stdout",
     "output_type": "stream",
     "text": [
      "+----------+------------+\n",
      "|product_id|avg_quantity|\n",
      "+----------+------------+\n",
      "|         1|         5.0|\n",
      "|         2|        5.92|\n",
      "|         3|        6.31|\n",
      "|         4|        6.75|\n",
      "|         5|         5.0|\n",
      "|         6|        5.46|\n",
      "|         7|        4.87|\n",
      "|         8|        6.22|\n",
      "|         9|        5.13|\n",
      "|        10|        4.95|\n",
      "|        11|        5.03|\n",
      "|        12|        6.35|\n",
      "|        13|        6.09|\n",
      "|        14|        7.19|\n",
      "|        15|         5.5|\n",
      "|        16|         5.2|\n",
      "|        17|        5.56|\n",
      "|        18|         6.0|\n",
      "|        19|        6.23|\n",
      "|        20|         6.0|\n",
      "+----------+------------+\n",
      "only showing top 20 rows\n",
      "\n"
     ]
    }
   ],
   "source": [
    "avgOrderPerProduct_df = sqlContext.sql('''\n",
    "\t\t\tSELECT product_id,\n",
    "\t\t\t\tROUND(AVG(quantity), 2) AS avg_quantity\n",
    "\t\t\tFROM tra_sales\n",
    "\t\t\tGROUP BY product_id\n",
    "\t\t\tORDER BY product_id\n",
    "        ''')\n",
    "\t\t\n",
    "avgOrderPerProduct_df.show()"
   ]
  },
  {
   "cell_type": "markdown",
   "id": "fe8401dc-1725-409a-82aa-d0553566965d",
   "metadata": {},
   "source": [
    "### 3.) Identify the top-selling products"
   ]
  },
  {
   "cell_type": "code",
   "execution_count": 45,
   "id": "7301ed4e-0633-4fce-904b-5f745a2fc426",
   "metadata": {},
   "outputs": [
    {
     "name": "stdout",
     "output_type": "stream",
     "text": [
      "+----------+--------------+\n",
      "|product_id|total_quantity|\n",
      "+----------+--------------+\n",
      "|        11|           181|\n",
      "|        36|           159|\n",
      "|        23|           156|\n",
      "|        26|           155|\n",
      "|        44|           151|\n",
      "+----------+--------------+\n",
      "\n"
     ]
    }
   ],
   "source": [
    "# Top 5 selling products\n",
    "top5SellinProducts_df = sqlContext.sql('''\n",
    "\t\t\tWITH topSellingProducts\n",
    "\t\t\tAS(\n",
    "\t\t\t\tSELECT product_id,\n",
    "\t\t\t\t\tSUM(quantity) AS total_quantity\n",
    "\t\t\t\tFROM tra_sales\n",
    "\t\t\t\tGROUP BY product_id\n",
    "\t\t\t)\n",
    "\t\t\tSELECT *\n",
    "\t\t\tFROM topSellingProducts\n",
    "\t\t\tORDER BY total_quantity DESC\n",
    "\t\t\tLIMIT 5\n",
    "        ''')\n",
    "\t\t\n",
    "top5SellinProducts_df.show()"
   ]
  },
  {
   "cell_type": "markdown",
   "id": "2c651caa-1dd5-4b00-8f34-de6bac38e79f",
   "metadata": {},
   "source": [
    "### 4.) Analyze sales trends over time (e.g., monthly or quarterly sales)"
   ]
  },
  {
   "cell_type": "code",
   "execution_count": 47,
   "id": "07ade75a-12f2-4b12-b7dd-7f9496ba7dc6",
   "metadata": {},
   "outputs": [],
   "source": [
    "salesTrend_df = sqlContext.sql('''\n",
    "\t\t\tCREATE OR REPLACE TEMP VIEW salesTrend\n",
    "\t\t\tAS\n",
    "\t\t\tSELECT date_part('YEAR', order_date) as year_num,\n",
    "\t\t\t\tdate_part('MONTH', order_date) as month_num,\n",
    "\t\t\t\tCASE\n",
    "\t\t\t\t\tWHEN MONTH(order_date) BETWEEN 1 AND 3 THEN 'Q1'\n",
    "\t\t\t\t\tWHEN MONTH(order_date) BETWEEN 4 AND 6 THEN 'Q2'\n",
    "\t\t\t\t\tWHEN MONTH(order_date) BETWEEN 7 AND 9 THEN 'Q3'\n",
    "\t\t\t\t\tWHEN MONTH(order_date) BETWEEN 10 AND 12 THEN 'Q4'\n",
    "\t\t\t\tEND AS quarter_num,\n",
    "\t\t\t\t(quantity * price) AS total_amount\n",
    "\t\t\tFROM tra_sales\n",
    "\t\t\tORDER BY year_num, month_num\n",
    "        ''')"
   ]
  },
  {
   "cell_type": "markdown",
   "id": "bab03478-d0b3-4100-b0df-5e607343e711",
   "metadata": {},
   "source": [
    "##### Monthly Sales Trends"
   ]
  },
  {
   "cell_type": "code",
   "execution_count": 50,
   "id": "abea404d-5155-4312-ad6c-ec211adb6c6e",
   "metadata": {},
   "outputs": [
    {
     "name": "stdout",
     "output_type": "stream",
     "text": [
      "+--------+---------+--------------------+\n",
      "|year_num|month_num|monthly_sales_amount|\n",
      "+--------+---------+--------------------+\n",
      "|    2023|        6|              427.45|\n",
      "|    2023|        5|            22360.13|\n",
      "|    2023|        4|            27713.28|\n",
      "|    2023|        3|            24914.67|\n",
      "|    2023|        2|            27308.78|\n",
      "|    2023|        1|            22724.84|\n",
      "|    2022|       12|            29656.92|\n",
      "|    2022|       11|            22888.05|\n",
      "|    2022|       10|            25448.66|\n",
      "|    2022|        9|            26819.41|\n",
      "|    2022|        8|            25121.81|\n",
      "|    2022|        7|            28217.77|\n",
      "|    2022|        6|            25539.24|\n",
      "+--------+---------+--------------------+\n",
      "\n"
     ]
    }
   ],
   "source": [
    "monthlySalesTrend_df = sqlContext.sql(''' \n",
    "\t\t\tSELECT year_num,\n",
    "\t\t\t\tmonth_num,\n",
    "\t\t\t\tROUND(SUM(total_amount), 2) AS monthly_sales_amount\n",
    "\t\t\tFROM salesTrend\n",
    "\t\t\tGROUP BY year_num, month_num\n",
    "\t\t\tORDER BY year_num DESC, month_num DESC \n",
    "\t\t''')\n",
    "monthlySalesTrend_df.show()"
   ]
  },
  {
   "cell_type": "markdown",
   "id": "33ce5662-b28b-4ceb-aeef-a19f327e9c2e",
   "metadata": {},
   "source": [
    "##### Qaurterly Sales Trends"
   ]
  },
  {
   "cell_type": "code",
   "execution_count": 52,
   "id": "ad5a4895-ac4f-483a-8fd0-b6d522d88ae3",
   "metadata": {},
   "outputs": [
    {
     "name": "stdout",
     "output_type": "stream",
     "text": [
      "+--------+-----------+----------------------+\n",
      "|year_num|quarter_num|quarterly_sales_amount|\n",
      "+--------+-----------+----------------------+\n",
      "|    2023|         Q2|              50500.86|\n",
      "|    2023|         Q1|              74948.29|\n",
      "|    2022|         Q4|              77993.63|\n",
      "|    2022|         Q3|              80158.99|\n",
      "|    2022|         Q2|              25539.24|\n",
      "+--------+-----------+----------------------+\n",
      "\n"
     ]
    }
   ],
   "source": [
    "quarterlySalesTrend_df = sqlContext.sql(''' \n",
    "\t\t\tSELECT year_num,\n",
    "\t\t\t\tquarter_num,\n",
    "\t\t\t\tROUND(SUM(total_amount), 2) AS quarterly_sales_amount\n",
    "\t\t\tFROM salesTrend\n",
    "\t\t\tGROUP BY year_num, quarter_num\n",
    "\t\t\tORDER BY year_num DESC, quarter_num DESC \n",
    "\t\t''')\n",
    "quarterlySalesTrend_df.show()"
   ]
  },
  {
   "cell_type": "markdown",
   "id": "f19df732-d997-496b-8cb6-3a1662523aae",
   "metadata": {},
   "source": [
    "### 5.) Other Relevant Statistics"
   ]
  },
  {
   "cell_type": "markdown",
   "id": "8c5ee983-e462-428d-8e3d-b84191cd57e2",
   "metadata": {},
   "source": [
    "##### Sales By Fictional Store Address"
   ]
  },
  {
   "cell_type": "code",
   "execution_count": 60,
   "id": "8af76660-1167-4634-a443-46f5c83e11a2",
   "metadata": {},
   "outputs": [
    {
     "name": "stdout",
     "output_type": "stream",
     "text": [
      "+-------------+----------------------+\n",
      "|store_address|sales_by_store_address|\n",
      "+-------------+----------------------+\n",
      "|      Beijing|               36704.0|\n",
      "|       London|               28625.0|\n",
      "|       Mumbai|               30169.0|\n",
      "|          Goa|               31860.0|\n",
      "|        Paris|               31157.0|\n",
      "|       Riyadh|               31019.0|\n",
      "|    Abu Dhabi|               24681.0|\n",
      "|    Hyderabad|               28738.0|\n",
      "|        Dubai|               33147.0|\n",
      "|    Washigton|               33041.0|\n",
      "+-------------+----------------------+\n",
      "\n"
     ]
    }
   ],
   "source": [
    "salesByStoreAddress = sqlContext.sql(''' \n",
    "\t\t\tSELECT store_address,\n",
    "\t\t\t\tROUND(SUM((quantity * price))) AS sales_by_store_address\n",
    "\t\t\tFROM tra_sales\n",
    "\t\t\tGROUP BY store_address\n",
    "\t\t''')\n",
    "salesByStoreAddress.show()"
   ]
  },
  {
   "cell_type": "markdown",
   "id": "551f2cd8-b301-45e4-a16e-fe6e74403025",
   "metadata": {},
   "source": [
    "### 6.) Average sales amount By weather condition"
   ]
  },
  {
   "cell_type": "code",
   "execution_count": 58,
   "id": "6453cf52-55f1-4987-9d68-e8bb117ea6d7",
   "metadata": {},
   "outputs": [
    {
     "name": "stdout",
     "output_type": "stream",
     "text": [
      "+-----------------+----------------+\n",
      "|weather_condition|avg_sales_amount|\n",
      "+-----------------+----------------+\n",
      "|          drizzle|           305.0|\n",
      "|               NA|           312.0|\n",
      "|    broken clouds|           295.0|\n",
      "|        clear sky|           306.0|\n",
      "|  overcast clouds|           316.0|\n",
      "| scattered clouds|           312.0|\n",
      "|             mist|           314.0|\n",
      "+-----------------+----------------+\n",
      "\n"
     ]
    }
   ],
   "source": [
    "# The unrealistic values starting with \"net.raz*\" are set to \"NA\" in description column which holds weather condition\n",
    "avgSalesAmountByWeather_df = sqlContext.sql(''' \n",
    "\t\t\tWITH salesTrendsByWeather\n",
    "\t\t\tAS\n",
    "\t\t\t(\n",
    "\t\t\t\tSELECT CASE \n",
    "\t\t\t\t\t\t\tWHEN description LIKE \"%net.razorvine.pickle.objects.ClassDictConstructor%\" THEN 'NA'\n",
    "\t\t\t\t\t\t\tELSE description \n",
    "\t\t\t\t\t\tEND AS weather_condition,\n",
    "\t\t\t\t\t(quantity * price) AS sales_amount\n",
    "\t\t\t\tFROM tra_sales\n",
    "\t\t\t)\n",
    "\t\t\tSELECT weather_condition,\n",
    "\t\t\t\tROUND(AVG(sales_amount)) AS avg_sales_amount\n",
    "\t\t\tFROM salesTrendsByWeather\n",
    "\t\t\tGROUP BY weather_condition\n",
    "\t\t''')\n",
    "avgSalesAmountByWeather_df.show()\t\t"
   ]
  }
 ],
 "metadata": {
  "kernelspec": {
   "display_name": "Python 3 (ipykernel)",
   "language": "python",
   "name": "python3"
  },
  "language_info": {
   "codemirror_mode": {
    "name": "ipython",
    "version": 3
   },
   "file_extension": ".py",
   "mimetype": "text/x-python",
   "name": "python",
   "nbconvert_exporter": "python",
   "pygments_lexer": "ipython3",
   "version": "3.8.13"
  }
 },
 "nbformat": 4,
 "nbformat_minor": 5
}
